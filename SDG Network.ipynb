{
 "cells": [
  {
   "cell_type": "code",
   "execution_count": 43,
   "metadata": {},
   "outputs": [],
   "source": [
    "import pandas as pd\n",
    "import numpy as np\n",
    "import holoviews as hv\n",
    "import panel as pn\n",
    "import networkx as nx\n",
    "import requests\n",
    "import json"
   ]
  },
  {
   "cell_type": "markdown",
   "metadata": {},
   "source": [
    "### SDG Data API"
   ]
  },
  {
   "cell_type": "code",
   "execution_count": 14,
   "metadata": {},
   "outputs": [],
   "source": [
    "def all_geoareas():\n",
    "    data = requests.get(\"https://unstats.un.org/SDGAPI/v1/sdg/GeoArea/List\")\n",
    "    return pd.DataFrame(data.json())\n",
    "    \n",
    "def all_goals():\n",
    "    data = requests.get(\"https://unstats.un.org/SDGAPI/v1/sdg/Goal/List?includechildren=false\")\n",
    "    return pd.DataFrame(data.json())\n",
    "\n",
    "def all_targets():\n",
    "    data = requests.get(\"https://unstats.un.org/SDGAPI/v1/sdg/Target/List?includechildren=true\")\n",
    "    return pd.DataFrame(data.json())\n",
    "\n",
    "def all_indicators():\n",
    "    data = requests.get(\"https://unstats.un.org/SDGAPI/v1/sdg/Indicator/List\")\n",
    "    return pd.DataFrame(data.json())\n",
    "\n",
    "def all_series():\n",
    "    data = requests.get(\"https://unstats.un.org/SDGAPI/v1/sdg/Series/List\")\n",
    "    return pd.DataFrame(data.json())"
   ]
  },
  {
   "cell_type": "code",
   "execution_count": 3,
   "metadata": {},
   "outputs": [],
   "source": [
    "ecosystem_capitals = pd.DataFrame([\n",
    "            'Natural Capital', \n",
    "            'Intellectual Capital', \n",
    "            'Human Capital', \n",
    "            'Manufactured Capital', \n",
    "            'Financial Capital', \n",
    "            'Social & Relationship Capial',\n",
    "        ],columns=['Ecosystem Capitals'])"
   ]
  },
  {
   "cell_type": "code",
   "execution_count": 15,
   "metadata": {},
   "outputs": [],
   "source": [
    "all_geoareas = all_geoareas()\n",
    "all_goals = all_goals()\n",
    "all_targets = all_targets()\n",
    "all_indicators = all_indicators()\n",
    "all_series = all_series()"
   ]
  },
  {
   "cell_type": "markdown",
   "metadata": {},
   "source": [
    "### GeoTree"
   ]
  },
  {
   "cell_type": "code",
   "execution_count": 237,
   "metadata": {},
   "outputs": [],
   "source": [
    "def traverse(G, v=None):\n",
    "    for n in G:\n",
    "        nodes_data.append({'name':n['geoAreaName'],'group':n['type'],'code':n['geoAreaCode']})\n",
    "        if v:\n",
    "            links_data.append({'value':1,'source':v['geoAreaCode'],'target':n['geoAreaCode']})\n",
    "        if n['children']:\n",
    "            traverse(n['children'], n)\n",
    "            \n",
    "data = requests.get(\"https://unstats.un.org/SDGAPI/v1/sdg/GeoArea/Tree\")\n",
    "geo_tree = data.json()\n",
    "\n",
    "data = requests.get(\"https://unstats.un.org/SDGAPI/v1/sdg/Goal/List?includechildren=true\")\n",
    "sdg_data = pd.DataFrame(data.json())"
   ]
  },
  {
   "cell_type": "code",
   "execution_count": 240,
   "metadata": {},
   "outputs": [],
   "source": [
    "links_data = []\n",
    "nodes_data = []\n",
    "traverse(geo_tree)"
   ]
  },
  {
   "cell_type": "markdown",
   "metadata": {},
   "source": [
    "### Nodes - Geo - Eco Capitals - SDGs - Zone of Life"
   ]
  },
  {
   "cell_type": "code",
   "execution_count": 241,
   "metadata": {},
   "outputs": [],
   "source": [
    "geo_links = pd.DataFrame(links_data)\n",
    "geo_links['source'] = geo_links['source'].apply(lambda x: 'g'+str(x))\n",
    "geo_links['target'] = geo_links['target'].apply(lambda x: 'g'+str(x))\n",
    "geo_nodes = pd.DataFrame(nodes_data)\n",
    "geo_nodes['code'] = geo_nodes['code'].apply(lambda x: 'g'+str(x))\n",
    "geo_nodes['size'] = 3"
   ]
  },
  {
   "cell_type": "code",
   "execution_count": 242,
   "metadata": {},
   "outputs": [],
   "source": [
    "ecosystem_capitals_nodes = pd.DataFrame()\n",
    "ecosystem_capitals_nodes['name'] = ecosystem_capitals['Ecosystem Capitals']\n",
    "ecosystem_capitals_nodes['group'] = 'Ecosystem Capitals'\n",
    "ecosystem_capitals_nodes['code'] = ecosystem_capitals.index"
   ]
  },
  {
   "cell_type": "code",
   "execution_count": 243,
   "metadata": {},
   "outputs": [],
   "source": [
    "sdg_nodes = pd.DataFrame()\n",
    "sdg_nodes['name'] = sdg_data['title']\n",
    "sdg_nodes['group'] = 'SDG'\n",
    "sdg_nodes['code'] = sdg_data['code']\n",
    "sdg_nodes['size'] = 5"
   ]
  },
  {
   "cell_type": "code",
   "execution_count": 244,
   "metadata": {},
   "outputs": [],
   "source": [
    "zone_of_life_node = pd.DataFrame([['Zone of Life','ZOL',9001, 20]],columns=['name','group','code','size'])"
   ]
  },
  {
   "cell_type": "code",
   "execution_count": 245,
   "metadata": {},
   "outputs": [],
   "source": [
    "zone_of_life_node['code'] = zone_of_life_node['code'].apply(lambda x: 'z'+str(x))\n",
    "sdg_nodes['code'] = sdg_nodes['code'].apply(lambda x: 's'+str(x))\n",
    "ecosystem_capitals_nodes['code'] = ecosystem_capitals_nodes['code'].apply(lambda x: 'e'+str(x))"
   ]
  },
  {
   "cell_type": "markdown",
   "metadata": {},
   "source": [
    "### Links - Geo - Eco Capitals - Zone of Life"
   ]
  },
  {
   "cell_type": "code",
   "execution_count": 246,
   "metadata": {},
   "outputs": [],
   "source": [
    "eco_links1 = pd.DataFrame()\n",
    "eco_links1['source'] = ecosystem_capitals_nodes['code']\n",
    "eco_links1['target'] = 'g1'\n",
    "eco_links1['value'] = '0.75'\n",
    "eco_links2 = pd.DataFrame()\n",
    "eco_links2['source'] = ecosystem_capitals_nodes['code']\n",
    "eco_links2['target'] = 'z9001'\n",
    "eco_links2['value'] = '0.75'\n",
    "eco_links = pd.concat([eco_links1,eco_links2],sort=False)\n",
    "                                \n",
    "sdg_links = pd.DataFrame()\n",
    "sdg_links['target'] = sdg_nodes['code']\n",
    "sdg_links['source'] = 'z9001'\n",
    "sdg_links['value'] = '0.25'"
   ]
  },
  {
   "cell_type": "code",
   "execution_count": 247,
   "metadata": {},
   "outputs": [],
   "source": [
    "nodes_df = pd.concat([geo_nodes,ecosystem_capitals_nodes,sdg_nodes,zone_of_life_node],sort=False).reset_index()\n",
    "links_df = pd.concat([geo_links,sdg_links,eco_links,],sort=False)\n",
    "links_df.loc[len(links_df)] = [0.1,'g1','z9001']"
   ]
  },
  {
   "cell_type": "markdown",
   "metadata": {},
   "source": [
    "### Map node codes"
   ]
  },
  {
   "cell_type": "code",
   "execution_count": 248,
   "metadata": {},
   "outputs": [],
   "source": [
    "code_to_index = dict(zip(nodes_df['code'],nodes_df.index))\n",
    "links_df_mapped = pd.DataFrame()\n",
    "links_df_mapped['source'] = links_df['source'].map(code_to_index)\n",
    "links_df_mapped['target'] = links_df['target'].map(code_to_index)"
   ]
  },
  {
   "cell_type": "markdown",
   "metadata": {},
   "source": [
    "### Convert to JSON and dump to disk"
   ]
  },
  {
   "cell_type": "code",
   "execution_count": 251,
   "metadata": {
    "scrolled": false
   },
   "outputs": [],
   "source": [
    "links_list = links_df_mapped.to_dict('records')\n",
    "\n",
    "nodes_list = nodes_df[['name','group']].to_dict('records')\n",
    "\n",
    "json_prep = {\"nodes\":nodes_list, \"links\":links_list}\n",
    "\n",
    "json_dump = json.dumps(json_prep, indent=1, sort_keys=True)\n",
    "\n",
    "filename_out = 'pcap_export.json'\n",
    "json_out = open(filename_out,'w')\n",
    "json_out.write(json_dump)\n",
    "json_out.close()"
   ]
  },
  {
   "cell_type": "markdown",
   "metadata": {},
   "source": [
    "### Mapping Targets to SDGs"
   ]
  },
  {
   "cell_type": "code",
   "execution_count": null,
   "metadata": {},
   "outputs": [],
   "source": [
    "target_nodes = pd.DataFrame()\n",
    "target_nodes['name'] = all_targets['title']\n",
    "target_nodes['group'] = 'Targets'\n",
    "target_nodes['code'] = all_targets['code'].apply(lambda x: 'g'+str(x))\n",
    "target_nodes['goal_code'] = all_targets['goal'].apply(lambda x: 'g'+str(x))\n",
    "target_nodes['size'] = 3\n",
    "\n",
    "target_links = pd.DataFrame()\n",
    "target_links['source'] = target_nodes['code']\n",
    "target_links['target'] = target_nodes['goal_code']\n",
    "target_links['value'] = 1"
   ]
  }
 ],
 "metadata": {
  "kernelspec": {
   "display_name": "Python 3",
   "language": "python",
   "name": "python3"
  },
  "language_info": {
   "codemirror_mode": {
    "name": "ipython",
    "version": 3
   },
   "file_extension": ".py",
   "mimetype": "text/x-python",
   "name": "python",
   "nbconvert_exporter": "python",
   "pygments_lexer": "ipython3",
   "version": "3.6.8"
  }
 },
 "nbformat": 4,
 "nbformat_minor": 4
}
