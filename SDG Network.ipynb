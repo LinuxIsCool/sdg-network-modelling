{
 "cells": [
  {
   "cell_type": "code",
   "execution_count": 43,
   "metadata": {},
   "outputs": [],
   "source": [
    "import pandas as pd\n",
    "import numpy as np\n",
    "import holoviews as hv\n",
    "import panel as pn\n",
    "import networkx as nx\n",
    "import requests\n",
    "import json\n",
    "from holoviews.ipython import display"
   ]
  },
  {
   "cell_type": "markdown",
   "metadata": {},
   "source": [
    "### SDG Data API"
   ]
  },
  {
   "cell_type": "code",
   "execution_count": 14,
   "metadata": {},
   "outputs": [],
   "source": [
    "def all_geoareas():\n",
    "    data = requests.get(\"https://unstats.un.org/SDGAPI/v1/sdg/GeoArea/List\")\n",
    "    return pd.DataFrame(data.json())\n",
    "    \n",
    "def all_goals():\n",
    "    data = requests.get(\"https://unstats.un.org/SDGAPI/v1/sdg/Goal/List?includechildren=false\")\n",
    "    return pd.DataFrame(data.json())\n",
    "\n",
    "def all_targets():\n",
    "    data = requests.get(\"https://unstats.un.org/SDGAPI/v1/sdg/Target/List?includechildren=true\")\n",
    "    return pd.DataFrame(data.json())\n",
    "\n",
    "def all_indicators():\n",
    "    data = requests.get(\"https://unstats.un.org/SDGAPI/v1/sdg/Indicator/List\")\n",
    "    return pd.DataFrame(data.json())\n",
    "\n",
    "def all_series():\n",
    "    data = requests.get(\"https://unstats.un.org/SDGAPI/v1/sdg/Series/List\")\n",
    "    return pd.DataFrame(data.json())"
   ]
  },
  {
   "cell_type": "code",
   "execution_count": 3,
   "metadata": {},
   "outputs": [],
   "source": [
    "ecosystem_capitals = pd.DataFrame([\n",
    "            'Natural Capital', \n",
    "            'Intellectual Capital', \n",
    "            'Human Capital', \n",
    "            'Manufactured Capital', \n",
    "            'Financial Capital', \n",
    "            'Social & Relationship Capial',\n",
    "        ],columns=['Ecosystem Capitals'])"
   ]
  },
  {
   "cell_type": "code",
   "execution_count": 15,
   "metadata": {},
   "outputs": [],
   "source": [
    "all_geoareas = all_geoareas()\n",
    "all_goals = all_goals()\n",
    "all_targets = all_targets()\n",
    "all_indicators = all_indicators()\n",
    "all_series = all_series()"
   ]
  },
  {
   "cell_type": "code",
   "execution_count": null,
   "metadata": {},
   "outputs": [],
   "source": [
    "geo_data = requests.get(\"https://unstats.un.org/SDGAPI/v1/sdg/GeoArea/Tree\")\n",
    "geo_tree = geo_data.json()\n",
    "\n",
    "sdg_data = requests.get(\"https://unstats.un.org/SDGAPI/v1/sdg/Goal/List?includechildren=true\")\n",
    "sdg_data = pd.DataFrame(sdg_data.json())"
   ]
  },
  {
   "cell_type": "markdown",
   "metadata": {},
   "source": [
    "### GeoTree"
   ]
  },
  {
   "cell_type": "code",
   "execution_count": 727,
   "metadata": {},
   "outputs": [],
   "source": [
    "def traverse(G, v=None):\n",
    "    for n in G:\n",
    "        nodes_data.append({'name':n['geoAreaName'],'group':n['type'],'code':n['geoAreaCode']})\n",
    "        if v:\n",
    "            links_data.append({'value':1,'source':v['geoAreaCode'],'target':n['geoAreaCode']})\n",
    "        if n['children']:\n",
    "            traverse(n['children'], n)"
   ]
  },
  {
   "cell_type": "code",
   "execution_count": 728,
   "metadata": {},
   "outputs": [],
   "source": [
    "df = pd.DataFrame(geo_tree)\n",
    "all_geos = []"
   ]
  },
  {
   "cell_type": "code",
   "execution_count": 729,
   "metadata": {},
   "outputs": [],
   "source": [
    "def traverse(node, tree):\n",
    "    if len(tree):\n",
    "        tree['Parent'] = node\n",
    "        all_geos.append(tree)\n",
    "        children = tree['children'].apply(pd.DataFrame)\n",
    "        [traverse(n, t) for n, t in zip(tree['geoAreaCode'], children)]"
   ]
  },
  {
   "cell_type": "code",
   "execution_count": 730,
   "metadata": {},
   "outputs": [],
   "source": [
    "traverse(1, pd.DataFrame(df.iloc[0]['children']))"
   ]
  },
  {
   "cell_type": "code",
   "execution_count": 731,
   "metadata": {},
   "outputs": [],
   "source": [
    "df = pd.concat(all_geos)"
   ]
  },
  {
   "cell_type": "code",
   "execution_count": 732,
   "metadata": {},
   "outputs": [
    {
     "data": {
      "text/html": [
       "<div>\n",
       "<style scoped>\n",
       "    .dataframe tbody tr th:only-of-type {\n",
       "        vertical-align: middle;\n",
       "    }\n",
       "\n",
       "    .dataframe tbody tr th {\n",
       "        vertical-align: top;\n",
       "    }\n",
       "\n",
       "    .dataframe thead th {\n",
       "        text-align: right;\n",
       "    }\n",
       "</style>\n",
       "<table border=\"1\" class=\"dataframe\">\n",
       "  <thead>\n",
       "    <tr style=\"text-align: right;\">\n",
       "      <th></th>\n",
       "      <th>geoAreaCode</th>\n",
       "      <th>geoAreaName</th>\n",
       "      <th>type</th>\n",
       "      <th>children</th>\n",
       "      <th>Parent</th>\n",
       "    </tr>\n",
       "  </thead>\n",
       "  <tbody>\n",
       "    <tr>\n",
       "      <th>0</th>\n",
       "      <td>10</td>\n",
       "      <td>Antarctica</td>\n",
       "      <td>Country</td>\n",
       "      <td>None</td>\n",
       "      <td>1</td>\n",
       "    </tr>\n",
       "    <tr>\n",
       "      <th>1</th>\n",
       "      <td>2</td>\n",
       "      <td>Africa</td>\n",
       "      <td>Region</td>\n",
       "      <td>[{'geoAreaCode': 15, 'geoAreaName': 'Northern ...</td>\n",
       "      <td>1</td>\n",
       "    </tr>\n",
       "    <tr>\n",
       "      <th>2</th>\n",
       "      <td>19</td>\n",
       "      <td>Americas</td>\n",
       "      <td>Region</td>\n",
       "      <td>[{'geoAreaCode': 419, 'geoAreaName': 'Latin Am...</td>\n",
       "      <td>1</td>\n",
       "    </tr>\n",
       "    <tr>\n",
       "      <th>3</th>\n",
       "      <td>150</td>\n",
       "      <td>Europe</td>\n",
       "      <td>Region</td>\n",
       "      <td>[{'geoAreaCode': 151, 'geoAreaName': 'Eastern ...</td>\n",
       "      <td>1</td>\n",
       "    </tr>\n",
       "    <tr>\n",
       "      <th>4</th>\n",
       "      <td>142</td>\n",
       "      <td>Asia</td>\n",
       "      <td>Region</td>\n",
       "      <td>[{'geoAreaCode': 143, 'geoAreaName': 'Central ...</td>\n",
       "      <td>1</td>\n",
       "    </tr>\n",
       "    <tr>\n",
       "      <th>...</th>\n",
       "      <td>...</td>\n",
       "      <td>...</td>\n",
       "      <td>...</td>\n",
       "      <td>...</td>\n",
       "      <td>...</td>\n",
       "    </tr>\n",
       "    <tr>\n",
       "      <th>5</th>\n",
       "      <td>882</td>\n",
       "      <td>Samoa</td>\n",
       "      <td>Country</td>\n",
       "      <td>None</td>\n",
       "      <td>61</td>\n",
       "    </tr>\n",
       "    <tr>\n",
       "      <th>6</th>\n",
       "      <td>772</td>\n",
       "      <td>Tokelau</td>\n",
       "      <td>Country</td>\n",
       "      <td>None</td>\n",
       "      <td>61</td>\n",
       "    </tr>\n",
       "    <tr>\n",
       "      <th>7</th>\n",
       "      <td>776</td>\n",
       "      <td>Tonga</td>\n",
       "      <td>Country</td>\n",
       "      <td>None</td>\n",
       "      <td>61</td>\n",
       "    </tr>\n",
       "    <tr>\n",
       "      <th>8</th>\n",
       "      <td>798</td>\n",
       "      <td>Tuvalu</td>\n",
       "      <td>Country</td>\n",
       "      <td>None</td>\n",
       "      <td>61</td>\n",
       "    </tr>\n",
       "    <tr>\n",
       "      <th>9</th>\n",
       "      <td>876</td>\n",
       "      <td>Wallis and Futuna Islands</td>\n",
       "      <td>Country</td>\n",
       "      <td>None</td>\n",
       "      <td>61</td>\n",
       "    </tr>\n",
       "  </tbody>\n",
       "</table>\n",
       "<p>295 rows × 5 columns</p>\n",
       "</div>"
      ],
      "text/plain": [
       "    geoAreaCode                geoAreaName     type  \\\n",
       "0            10                 Antarctica  Country   \n",
       "1             2                     Africa   Region   \n",
       "2            19                   Americas   Region   \n",
       "3           150                     Europe   Region   \n",
       "4           142                       Asia   Region   \n",
       "..          ...                        ...      ...   \n",
       "5           882                      Samoa  Country   \n",
       "6           772                    Tokelau  Country   \n",
       "7           776                      Tonga  Country   \n",
       "8           798                     Tuvalu  Country   \n",
       "9           876  Wallis and Futuna Islands  Country   \n",
       "\n",
       "                                             children  Parent  \n",
       "0                                                None       1  \n",
       "1   [{'geoAreaCode': 15, 'geoAreaName': 'Northern ...       1  \n",
       "2   [{'geoAreaCode': 419, 'geoAreaName': 'Latin Am...       1  \n",
       "3   [{'geoAreaCode': 151, 'geoAreaName': 'Eastern ...       1  \n",
       "4   [{'geoAreaCode': 143, 'geoAreaName': 'Central ...       1  \n",
       "..                                                ...     ...  \n",
       "5                                                None      61  \n",
       "6                                                None      61  \n",
       "7                                                None      61  \n",
       "8                                                None      61  \n",
       "9                                                None      61  \n",
       "\n",
       "[295 rows x 5 columns]"
      ]
     },
     "execution_count": 732,
     "metadata": {},
     "output_type": "execute_result"
    }
   ],
   "source": [
    "df"
   ]
  },
  {
   "cell_type": "code",
   "execution_count": 821,
   "metadata": {},
   "outputs": [],
   "source": [
    "geo_nodes = df[['geoAreaName','type','geoAreaCode']].copy()\n",
    "geo_nodes.columns = ['name','group','code']\n",
    "geo_nodes['size'] = 3\n",
    "geo_nodes['code'] = geo_nodes['code'].apply(lambda x: 'g'+str(x))\n",
    "geo_nodes = pd.concat([geo_nodes,pd.DataFrame([['World','World','g1','10']],columns=geo_nodes.columns)],ignore_index=True)"
   ]
  },
  {
   "cell_type": "code",
   "execution_count": 822,
   "metadata": {},
   "outputs": [],
   "source": [
    "geo_links = df[['Parent','geoAreaCode']].copy()\n",
    "geo_links['value'] = 1\n",
    "geo_links = geo_links.rename({'Parent':'source','geoAreaCode':'target'},axis=1)[['value','source','target']]\n",
    "geo_links['source'] = geo_links['source'].apply(lambda x: 'g'+str(x))\n",
    "geo_links['target'] = geo_links['target'].apply(lambda x: 'g'+str(x))\n",
    "geo_links = geo_links.replace('g0','g1').iloc[1:]"
   ]
  },
  {
   "cell_type": "code",
   "execution_count": 823,
   "metadata": {},
   "outputs": [
    {
     "data": {
      "text/html": [
       "<div>\n",
       "<style scoped>\n",
       "    .dataframe tbody tr th:only-of-type {\n",
       "        vertical-align: middle;\n",
       "    }\n",
       "\n",
       "    .dataframe tbody tr th {\n",
       "        vertical-align: top;\n",
       "    }\n",
       "\n",
       "    .dataframe thead th {\n",
       "        text-align: right;\n",
       "    }\n",
       "</style>\n",
       "<table border=\"1\" class=\"dataframe\">\n",
       "  <thead>\n",
       "    <tr style=\"text-align: right;\">\n",
       "      <th></th>\n",
       "      <th>name</th>\n",
       "      <th>group</th>\n",
       "      <th>code</th>\n",
       "      <th>size</th>\n",
       "    </tr>\n",
       "  </thead>\n",
       "  <tbody>\n",
       "    <tr>\n",
       "      <th>0</th>\n",
       "      <td>Antarctica</td>\n",
       "      <td>Country</td>\n",
       "      <td>g10</td>\n",
       "      <td>3</td>\n",
       "    </tr>\n",
       "    <tr>\n",
       "      <th>1</th>\n",
       "      <td>Africa</td>\n",
       "      <td>Region</td>\n",
       "      <td>g2</td>\n",
       "      <td>3</td>\n",
       "    </tr>\n",
       "    <tr>\n",
       "      <th>2</th>\n",
       "      <td>Americas</td>\n",
       "      <td>Region</td>\n",
       "      <td>g19</td>\n",
       "      <td>3</td>\n",
       "    </tr>\n",
       "    <tr>\n",
       "      <th>3</th>\n",
       "      <td>Europe</td>\n",
       "      <td>Region</td>\n",
       "      <td>g150</td>\n",
       "      <td>3</td>\n",
       "    </tr>\n",
       "    <tr>\n",
       "      <th>4</th>\n",
       "      <td>Asia</td>\n",
       "      <td>Region</td>\n",
       "      <td>g142</td>\n",
       "      <td>3</td>\n",
       "    </tr>\n",
       "    <tr>\n",
       "      <th>...</th>\n",
       "      <td>...</td>\n",
       "      <td>...</td>\n",
       "      <td>...</td>\n",
       "      <td>...</td>\n",
       "    </tr>\n",
       "    <tr>\n",
       "      <th>291</th>\n",
       "      <td>Tokelau</td>\n",
       "      <td>Country</td>\n",
       "      <td>g772</td>\n",
       "      <td>3</td>\n",
       "    </tr>\n",
       "    <tr>\n",
       "      <th>292</th>\n",
       "      <td>Tonga</td>\n",
       "      <td>Country</td>\n",
       "      <td>g776</td>\n",
       "      <td>3</td>\n",
       "    </tr>\n",
       "    <tr>\n",
       "      <th>293</th>\n",
       "      <td>Tuvalu</td>\n",
       "      <td>Country</td>\n",
       "      <td>g798</td>\n",
       "      <td>3</td>\n",
       "    </tr>\n",
       "    <tr>\n",
       "      <th>294</th>\n",
       "      <td>Wallis and Futuna Islands</td>\n",
       "      <td>Country</td>\n",
       "      <td>g876</td>\n",
       "      <td>3</td>\n",
       "    </tr>\n",
       "    <tr>\n",
       "      <th>295</th>\n",
       "      <td>World</td>\n",
       "      <td>World</td>\n",
       "      <td>g1</td>\n",
       "      <td>10</td>\n",
       "    </tr>\n",
       "  </tbody>\n",
       "</table>\n",
       "<p>296 rows × 4 columns</p>\n",
       "</div>"
      ],
      "text/plain": [
       "                          name    group  code size\n",
       "0                   Antarctica  Country   g10    3\n",
       "1                       Africa   Region    g2    3\n",
       "2                     Americas   Region   g19    3\n",
       "3                       Europe   Region  g150    3\n",
       "4                         Asia   Region  g142    3\n",
       "..                         ...      ...   ...  ...\n",
       "291                    Tokelau  Country  g772    3\n",
       "292                      Tonga  Country  g776    3\n",
       "293                     Tuvalu  Country  g798    3\n",
       "294  Wallis and Futuna Islands  Country  g876    3\n",
       "295                      World    World    g1   10\n",
       "\n",
       "[296 rows x 4 columns]"
      ]
     },
     "execution_count": 823,
     "metadata": {},
     "output_type": "execute_result"
    }
   ],
   "source": [
    "geo_nodes"
   ]
  },
  {
   "cell_type": "code",
   "execution_count": 824,
   "metadata": {},
   "outputs": [],
   "source": [
    "# geo_links = geo_links[~geo_links['target'].isin(['g150','g142','g513','g747','g753'])]"
   ]
  },
  {
   "cell_type": "code",
   "execution_count": 825,
   "metadata": {},
   "outputs": [
    {
     "data": {
      "text/plain": [
       "294"
      ]
     },
     "execution_count": 825,
     "metadata": {},
     "output_type": "execute_result"
    }
   ],
   "source": [
    "len(geo_links['target'].unique())"
   ]
  },
  {
   "cell_type": "code",
   "execution_count": 826,
   "metadata": {},
   "outputs": [],
   "source": [
    "# links_data = []\n",
    "# nodes_data = []\n",
    "# traverse(geo_tree)"
   ]
  },
  {
   "cell_type": "code",
   "execution_count": 827,
   "metadata": {},
   "outputs": [],
   "source": [
    "# nodes_data"
   ]
  },
  {
   "cell_type": "code",
   "execution_count": 828,
   "metadata": {},
   "outputs": [],
   "source": [
    "# links_data"
   ]
  },
  {
   "cell_type": "markdown",
   "metadata": {},
   "source": [
    "### Nodes - Geo - Eco Capitals - SDGs - Zone of Life"
   ]
  },
  {
   "cell_type": "code",
   "execution_count": 829,
   "metadata": {},
   "outputs": [],
   "source": [
    "# geo_links = pd.DataFrame(links_data)\n",
    "# geo_links['source'] = geo_links['source'].apply(lambda x: 'g'+str(x))\n",
    "# geo_links['target'] = geo_links['target'].apply(lambda x: 'g'+str(x))\n",
    "# geo_nodes = pd.DataFrame(nodes_data)\n",
    "# geo_nodes['code'] = geo_nodes['code'].apply(lambda x: 'g'+str(x))\n",
    "# geo_nodes['size'] = 3"
   ]
  },
  {
   "cell_type": "code",
   "execution_count": 830,
   "metadata": {
    "scrolled": true
   },
   "outputs": [
    {
     "data": {
      "text/html": [
       "<div>\n",
       "<style scoped>\n",
       "    .dataframe tbody tr th:only-of-type {\n",
       "        vertical-align: middle;\n",
       "    }\n",
       "\n",
       "    .dataframe tbody tr th {\n",
       "        vertical-align: top;\n",
       "    }\n",
       "\n",
       "    .dataframe thead th {\n",
       "        text-align: right;\n",
       "    }\n",
       "</style>\n",
       "<table border=\"1\" class=\"dataframe\">\n",
       "  <thead>\n",
       "    <tr style=\"text-align: right;\">\n",
       "      <th></th>\n",
       "      <th>name</th>\n",
       "      <th>group</th>\n",
       "      <th>code</th>\n",
       "      <th>size</th>\n",
       "    </tr>\n",
       "  </thead>\n",
       "  <tbody>\n",
       "    <tr>\n",
       "      <th>0</th>\n",
       "      <td>Antarctica</td>\n",
       "      <td>Country</td>\n",
       "      <td>g10</td>\n",
       "      <td>3</td>\n",
       "    </tr>\n",
       "    <tr>\n",
       "      <th>1</th>\n",
       "      <td>Africa</td>\n",
       "      <td>Region</td>\n",
       "      <td>g2</td>\n",
       "      <td>3</td>\n",
       "    </tr>\n",
       "    <tr>\n",
       "      <th>2</th>\n",
       "      <td>Americas</td>\n",
       "      <td>Region</td>\n",
       "      <td>g19</td>\n",
       "      <td>3</td>\n",
       "    </tr>\n",
       "    <tr>\n",
       "      <th>3</th>\n",
       "      <td>Europe</td>\n",
       "      <td>Region</td>\n",
       "      <td>g150</td>\n",
       "      <td>3</td>\n",
       "    </tr>\n",
       "    <tr>\n",
       "      <th>4</th>\n",
       "      <td>Asia</td>\n",
       "      <td>Region</td>\n",
       "      <td>g142</td>\n",
       "      <td>3</td>\n",
       "    </tr>\n",
       "    <tr>\n",
       "      <th>...</th>\n",
       "      <td>...</td>\n",
       "      <td>...</td>\n",
       "      <td>...</td>\n",
       "      <td>...</td>\n",
       "    </tr>\n",
       "    <tr>\n",
       "      <th>291</th>\n",
       "      <td>Tokelau</td>\n",
       "      <td>Country</td>\n",
       "      <td>g772</td>\n",
       "      <td>3</td>\n",
       "    </tr>\n",
       "    <tr>\n",
       "      <th>292</th>\n",
       "      <td>Tonga</td>\n",
       "      <td>Country</td>\n",
       "      <td>g776</td>\n",
       "      <td>3</td>\n",
       "    </tr>\n",
       "    <tr>\n",
       "      <th>293</th>\n",
       "      <td>Tuvalu</td>\n",
       "      <td>Country</td>\n",
       "      <td>g798</td>\n",
       "      <td>3</td>\n",
       "    </tr>\n",
       "    <tr>\n",
       "      <th>294</th>\n",
       "      <td>Wallis and Futuna Islands</td>\n",
       "      <td>Country</td>\n",
       "      <td>g876</td>\n",
       "      <td>3</td>\n",
       "    </tr>\n",
       "    <tr>\n",
       "      <th>295</th>\n",
       "      <td>World</td>\n",
       "      <td>World</td>\n",
       "      <td>g1</td>\n",
       "      <td>10</td>\n",
       "    </tr>\n",
       "  </tbody>\n",
       "</table>\n",
       "<p>296 rows × 4 columns</p>\n",
       "</div>"
      ],
      "text/plain": [
       "                          name    group  code size\n",
       "0                   Antarctica  Country   g10    3\n",
       "1                       Africa   Region    g2    3\n",
       "2                     Americas   Region   g19    3\n",
       "3                       Europe   Region  g150    3\n",
       "4                         Asia   Region  g142    3\n",
       "..                         ...      ...   ...  ...\n",
       "291                    Tokelau  Country  g772    3\n",
       "292                      Tonga  Country  g776    3\n",
       "293                     Tuvalu  Country  g798    3\n",
       "294  Wallis and Futuna Islands  Country  g876    3\n",
       "295                      World    World    g1   10\n",
       "\n",
       "[296 rows x 4 columns]"
      ]
     },
     "execution_count": 830,
     "metadata": {},
     "output_type": "execute_result"
    }
   ],
   "source": [
    "geo_nodes"
   ]
  },
  {
   "cell_type": "code",
   "execution_count": 831,
   "metadata": {},
   "outputs": [],
   "source": [
    "ecosystem_capitals_nodes = pd.DataFrame()\n",
    "ecosystem_capitals_nodes['name'] = ecosystem_capitals['Ecosystem Capitals']\n",
    "ecosystem_capitals_nodes['group'] = 'Ecosystem Capitals'\n",
    "ecosystem_capitals_nodes['code'] = ecosystem_capitals.index"
   ]
  },
  {
   "cell_type": "code",
   "execution_count": 832,
   "metadata": {},
   "outputs": [],
   "source": [
    "sdg_nodes = pd.DataFrame()\n",
    "sdg_nodes['name'] = sdg_data['title']\n",
    "sdg_nodes['group'] = 'SDG'\n",
    "sdg_nodes['code'] = sdg_data['code']\n",
    "sdg_nodes['size'] = 5"
   ]
  },
  {
   "cell_type": "code",
   "execution_count": 833,
   "metadata": {},
   "outputs": [],
   "source": [
    "# zone_of_life_node = pd.DataFrame([['Zone of Life','ZOL',9001, 20]],columns=['name','group','code','size'])"
   ]
  },
  {
   "cell_type": "code",
   "execution_count": 834,
   "metadata": {},
   "outputs": [],
   "source": [
    "# zone_of_life_node['code'] = zone_of_life_node['code'].apply(lambda x: 'z'+str(x))\n",
    "sdg_nodes['code'] = sdg_nodes['code'].apply(lambda x: 's'+str(x))\n",
    "ecosystem_capitals_nodes['code'] = ecosystem_capitals_nodes['code'].apply(lambda x: 'e'+str(x))"
   ]
  },
  {
   "cell_type": "markdown",
   "metadata": {},
   "source": [
    "### Links - Geo - Eco Capitals - Zone of Life"
   ]
  },
  {
   "cell_type": "code",
   "execution_count": 835,
   "metadata": {},
   "outputs": [],
   "source": [
    "eco_links1 = pd.DataFrame()\n",
    "eco_links1['source'] = ecosystem_capitals_nodes['code']\n",
    "eco_links1['target'] = 'g1'\n",
    "eco_links1['value'] = '0.75'\n",
    "# eco_links2 = pd.DataFrame()\n",
    "# eco_links2['source'] = ecosystem_capitals_nodes['code']\n",
    "# eco_links2['target'] = 'z9001'\n",
    "# eco_links2['value'] = '0.75'\n",
    "# eco_links = pd.concat([eco_links1,eco_links2],sort=False)\n",
    "                                \n",
    "sdg_links = pd.DataFrame()\n",
    "sdg_links['target'] = sdg_nodes['code']\n",
    "sdg_links['source'] = 'g1'\n",
    "sdg_links['value'] = '0.25'"
   ]
  },
  {
   "cell_type": "code",
   "execution_count": 836,
   "metadata": {},
   "outputs": [],
   "source": [
    "nodes_df = pd.concat([geo_nodes,ecosystem_capitals_nodes,sdg_nodes],sort=False).reset_index()\n",
    "links_df = pd.concat([geo_links,sdg_links,eco_links1,],sort=False)"
   ]
  },
  {
   "cell_type": "markdown",
   "metadata": {},
   "source": [
    "### Mapping Targets to SDGs"
   ]
  },
  {
   "cell_type": "code",
   "execution_count": 838,
   "metadata": {},
   "outputs": [],
   "source": [
    "target_nodes = pd.DataFrame()\n",
    "target_nodes['name'] = all_targets['title']\n",
    "target_nodes['group'] = 'Targets'\n",
    "target_nodes['code'] = all_targets['code'].apply(lambda x: 's'+str(x).replace('.','-'))\n",
    "target_nodes['goal_code'] = all_targets['goal'].apply(lambda x: 's'+str(x).replace('.','-'))\n",
    "target_nodes['size'] = 3\n",
    "\n",
    "target_links = pd.DataFrame()\n",
    "target_links['source'] = target_nodes['code']\n",
    "target_links['target'] = target_nodes['goal_code']\n",
    "target_links['value'] = 1\n",
    "\n",
    "nodes_df = pd.concat([geo_nodes,ecosystem_capitals_nodes,sdg_nodes,target_nodes[['name','group','code','size']]],sort=False).reset_index()\n",
    "links_df = pd.concat([geo_links,sdg_links,eco_links1,target_links[['value','source','target']]],sort=False)\n",
    "links_df.loc[len(links_df)] = [0.1,'g1','z9001']"
   ]
  },
  {
   "cell_type": "markdown",
   "metadata": {},
   "source": [
    "### Map node codes"
   ]
  },
  {
   "cell_type": "code",
   "execution_count": 839,
   "metadata": {},
   "outputs": [],
   "source": [
    "code_to_index = dict(zip(nodes_df['code'],nodes_df.index))\n",
    "links_df_mapped = pd.DataFrame()\n",
    "links_df_mapped['source'] = links_df['source'].map(code_to_index)\n",
    "links_df_mapped['target'] = links_df['target'].map(code_to_index)"
   ]
  },
  {
   "cell_type": "code",
   "execution_count": 840,
   "metadata": {},
   "outputs": [],
   "source": [
    "links_df_mapped = links_df_mapped.fillna(1)"
   ]
  },
  {
   "cell_type": "markdown",
   "metadata": {},
   "source": [
    "### Convert to JSON and dump to disk"
   ]
  },
  {
   "cell_type": "code",
   "execution_count": 841,
   "metadata": {
    "scrolled": false
   },
   "outputs": [],
   "source": [
    "links_list = links_df_mapped.to_dict('records')\n",
    "\n",
    "nodes_list = nodes_df[['name','group']].to_dict('records')\n",
    "\n",
    "json_prep = {\"nodes\":nodes_list, \"links\":links_list}\n",
    "\n",
    "json_dump = json.dumps(json_prep, indent=1, sort_keys=True)\n",
    "\n",
    "filename_out = 'pcap_export.json'\n",
    "json_out = open(filename_out,'w')\n",
    "json_out.write(json_dump)\n",
    "json_out.close()"
   ]
  },
  {
   "cell_type": "code",
   "execution_count": null,
   "metadata": {},
   "outputs": [],
   "source": []
  }
 ],
 "metadata": {
  "kernelspec": {
   "display_name": "Python 3",
   "language": "python",
   "name": "python3"
  },
  "language_info": {
   "codemirror_mode": {
    "name": "ipython",
    "version": 3
   },
   "file_extension": ".py",
   "mimetype": "text/x-python",
   "name": "python",
   "nbconvert_exporter": "python",
   "pygments_lexer": "ipython3",
   "version": "3.6.8"
  }
 },
 "nbformat": 4,
 "nbformat_minor": 4
}
